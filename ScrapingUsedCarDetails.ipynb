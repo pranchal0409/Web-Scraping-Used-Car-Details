{
 "cells": [
  {
   "cell_type": "code",
   "execution_count": 1,
   "id": "853cb83f",
   "metadata": {},
   "outputs": [],
   "source": [
    "import numpy as np\n",
    "import pandas as pd\n",
    "import time\n",
    "import csv"
   ]
  },
  {
   "cell_type": "code",
   "execution_count": 2,
   "id": "2c4d5b21",
   "metadata": {},
   "outputs": [],
   "source": [
    "from urllib.request import urlopen\n",
    "from bs4 import BeautifulSoup"
   ]
  },
  {
   "cell_type": "code",
   "execution_count": 3,
   "id": "9aafc721",
   "metadata": {},
   "outputs": [],
   "source": [
    "from selenium import webdriver"
   ]
  },
  {
   "cell_type": "markdown",
   "id": "5e8d6af0",
   "metadata": {},
   "source": [
    "# Data Scraping"
   ]
  },
  {
   "cell_type": "code",
   "execution_count": 4,
   "id": "69765c6b",
   "metadata": {},
   "outputs": [],
   "source": [
    "# creating new csv file\n",
    "outfile = open(\"scrape.csv\",\"w\",newline='')\n",
    "writer = csv.writer(outfile)"
   ]
  },
  {
   "cell_type": "code",
   "execution_count": 5,
   "id": "17ddb1d8",
   "metadata": {},
   "outputs": [],
   "source": [
    "# function to perform automated scrolling\n",
    "\n",
    "def scroll(driver, timeout):\n",
    "    scroll_pause_time = timeout\n",
    "\n",
    "    # Get scroll height of currently loaded page\n",
    "    last_height = driver.execute_script(\"return document.body.scrollHeight\")\n",
    "\n",
    "    while True:\n",
    "        # Scroll down to bottom\n",
    "        driver.execute_script(\"window.scrollTo(0, document.body.scrollHeight);\")\n",
    "\n",
    "        time.sleep(scroll_pause_time)  # Waiting for the page to load \n",
    "\n",
    "        # Calculate new scroll height and compare with last scroll height\n",
    "        new_height = driver.execute_script(\"return document.body.scrollHeight\")\n",
    "        \n",
    "        if new_height == last_height:\n",
    "            # If heights are the same then new page is loaded so it will exit the function\n",
    "            break\n",
    "        last_height = new_height \n"
   ]
  },
  {
   "cell_type": "code",
   "execution_count": 6,
   "id": "f5320ae5",
   "metadata": {},
   "outputs": [],
   "source": [
    "url = \"https://www.mahindrafirstchoice.com/used-cars/delhi\""
   ]
  },
  {
   "cell_type": "code",
   "execution_count": 7,
   "id": "275af26a",
   "metadata": {},
   "outputs": [],
   "source": [
    "driver = webdriver.Chrome()\n",
    "driver.implicitly_wait(30)  # driver waits before throwing any exception"
   ]
  },
  {
   "cell_type": "code",
   "execution_count": 8,
   "id": "2765f16a",
   "metadata": {
    "scrolled": true
   },
   "outputs": [],
   "source": [
    "driver.get(url)  # opens the webpage\n",
    "scroll(driver,5)\n",
    "bs = BeautifulSoup(driver.page_source, \"html.parser\")\n",
    "driver.close()"
   ]
  },
  {
   "cell_type": "code",
   "execution_count": 9,
   "id": "ad0d918c",
   "metadata": {},
   "outputs": [],
   "source": [
    "# creating empty lists to store the scrapped data\n",
    "\n",
    "year = []\n",
    "company = []\n",
    "model = []\n",
    "price = []\n",
    "location = []\n",
    "km = []\n",
    "fuel_type = []\n",
    "body = []\n",
    "owner = []"
   ]
  },
  {
   "cell_type": "code",
   "execution_count": 10,
   "id": "9d37599d",
   "metadata": {},
   "outputs": [],
   "source": [
    "cars = bs.findAll('div',attrs={'class':['buyer_cards']})"
   ]
  },
  {
   "cell_type": "code",
   "execution_count": 11,
   "id": "6475bdc5",
   "metadata": {
    "scrolled": true
   },
   "outputs": [],
   "source": [
    "# fetching data for one car at a time using for loop\n",
    "\n",
    "for car in cars:\n",
    "    \n",
    "    yr = car.find('h3',attrs={'class':'buyer_make'}).text[:4].strip()\n",
    "    year.append(yr)\n",
    "    \n",
    "    make = car.find('h3',attrs={'class':'buyer_make'}).text[5:].strip()\n",
    "    company.append(make)\n",
    "    \n",
    "    md = car.find('h3',attrs={'class':'buyer_variant'}).text.strip()\n",
    "    model.append(md)\n",
    "    \n",
    "    pr = car.find('span',attrs={'class':'car_price'}).text.strip()\n",
    "    price.append(pr)\n",
    "    \n",
    "    loc = car.find('span',attrs={'class':'buyer_locations icon_set stock_location b'}).text.strip()\n",
    "    location.append(loc)\n",
    "    \n",
    "    spec = car.find_all('span',attrs={'class':'overview_name'},limit=4)\n",
    "    \n",
    "    dis = spec[0].text.strip()\n",
    "    km.append(dis)\n",
    "    \n",
    "    fuel = spec[1].text.strip()\n",
    "    fuel_type.append(fuel)\n",
    "    \n",
    "    bd_ty = spec[2].text.strip()\n",
    "    body.append(bd_ty)\n",
    "    \n",
    "    own = spec[3].text.strip()\n",
    "    owner.append(own)"
   ]
  },
  {
   "cell_type": "code",
   "execution_count": 12,
   "id": "fc7c550b",
   "metadata": {},
   "outputs": [
    {
     "data": {
      "text/html": [
       "<div>\n",
       "<style scoped>\n",
       "    .dataframe tbody tr th:only-of-type {\n",
       "        vertical-align: middle;\n",
       "    }\n",
       "\n",
       "    .dataframe tbody tr th {\n",
       "        vertical-align: top;\n",
       "    }\n",
       "\n",
       "    .dataframe thead th {\n",
       "        text-align: right;\n",
       "    }\n",
       "</style>\n",
       "<table border=\"1\" class=\"dataframe\">\n",
       "  <thead>\n",
       "    <tr style=\"text-align: right;\">\n",
       "      <th></th>\n",
       "      <th>Year of Car</th>\n",
       "      <th>Make of Car</th>\n",
       "      <th>Model</th>\n",
       "      <th>Price of Car</th>\n",
       "      <th>Location of Car</th>\n",
       "      <th>Kilometers</th>\n",
       "      <th>Diseal/Petrol</th>\n",
       "      <th>Body</th>\n",
       "      <th>Owner</th>\n",
       "    </tr>\n",
       "  </thead>\n",
       "  <tbody>\n",
       "    <tr>\n",
       "      <th>0</th>\n",
       "      <td>2014</td>\n",
       "      <td>Maruti Suzuki</td>\n",
       "      <td>Wagon R 1.0 VXI</td>\n",
       "      <td>3 Lakhs</td>\n",
       "      <td>Delhi</td>\n",
       "      <td>47,951 Kms</td>\n",
       "      <td>Petrol</td>\n",
       "      <td>Hatchback</td>\n",
       "      <td>1st Owner</td>\n",
       "    </tr>\n",
       "    <tr>\n",
       "      <th>1</th>\n",
       "      <td>2014</td>\n",
       "      <td>Maruti Suzuki</td>\n",
       "      <td>Wagon R LXI</td>\n",
       "      <td>3 Lakhs</td>\n",
       "      <td>Ghaziabad</td>\n",
       "      <td>47,951 Kms</td>\n",
       "      <td>Petrol</td>\n",
       "      <td>Hatchback</td>\n",
       "      <td>2nd Owner</td>\n",
       "    </tr>\n",
       "    <tr>\n",
       "      <th>2</th>\n",
       "      <td>2013</td>\n",
       "      <td>Hyundai</td>\n",
       "      <td>I10 MAGNA 1.2</td>\n",
       "      <td>3 Lakhs</td>\n",
       "      <td>Noida</td>\n",
       "      <td>33,375 Kms</td>\n",
       "      <td>Petrol</td>\n",
       "      <td>Hatchback</td>\n",
       "      <td>1st Owner</td>\n",
       "    </tr>\n",
       "    <tr>\n",
       "      <th>3</th>\n",
       "      <td>2013</td>\n",
       "      <td>Hyundai</td>\n",
       "      <td>I10 MAGNA 1.2</td>\n",
       "      <td>3 Lakhs</td>\n",
       "      <td>Noida</td>\n",
       "      <td>33,375 Kms</td>\n",
       "      <td>Petrol</td>\n",
       "      <td>Hatchback</td>\n",
       "      <td>1st Owner</td>\n",
       "    </tr>\n",
       "    <tr>\n",
       "      <th>4</th>\n",
       "      <td>2012</td>\n",
       "      <td>Hyundai</td>\n",
       "      <td>I10 MAGNA 1.2</td>\n",
       "      <td>3 Lakhs</td>\n",
       "      <td>Ghaziabad</td>\n",
       "      <td>44,000 Kms</td>\n",
       "      <td>Petrol</td>\n",
       "      <td>Hatchback</td>\n",
       "      <td>1st Owner</td>\n",
       "    </tr>\n",
       "    <tr>\n",
       "      <th>...</th>\n",
       "      <td>...</td>\n",
       "      <td>...</td>\n",
       "      <td>...</td>\n",
       "      <td>...</td>\n",
       "      <td>...</td>\n",
       "      <td>...</td>\n",
       "      <td>...</td>\n",
       "      <td>...</td>\n",
       "      <td>...</td>\n",
       "    </tr>\n",
       "    <tr>\n",
       "      <th>893</th>\n",
       "      <td>2019</td>\n",
       "      <td>Maruti Suzuki</td>\n",
       "      <td>Vitara Brezza VDI AG...</td>\n",
       "      <td>8.25 Lakhs</td>\n",
       "      <td>Faridabad</td>\n",
       "      <td>31,000 Kms</td>\n",
       "      <td>Diesel</td>\n",
       "      <td>SUV</td>\n",
       "      <td>1st Owner</td>\n",
       "    </tr>\n",
       "    <tr>\n",
       "      <th>894</th>\n",
       "      <td>2018</td>\n",
       "      <td>Hyundai</td>\n",
       "      <td>Elite I20 MAGNA EXEC...</td>\n",
       "      <td>6 Lakhs</td>\n",
       "      <td>Faridabad</td>\n",
       "      <td>62,000 Kms</td>\n",
       "      <td>Diesel</td>\n",
       "      <td>Hatchback</td>\n",
       "      <td>1st Owner</td>\n",
       "    </tr>\n",
       "    <tr>\n",
       "      <th>895</th>\n",
       "      <td>2018</td>\n",
       "      <td>Tata</td>\n",
       "      <td>Tigor  REVOTRON XZA</td>\n",
       "      <td>5.85 Lakhs</td>\n",
       "      <td>Noida</td>\n",
       "      <td>39,000 Kms</td>\n",
       "      <td>Petrol</td>\n",
       "      <td>Sedan</td>\n",
       "      <td>2nd Owner</td>\n",
       "    </tr>\n",
       "    <tr>\n",
       "      <th>896</th>\n",
       "      <td>2014</td>\n",
       "      <td>Hyundai</td>\n",
       "      <td>I20  ASTA 1.2</td>\n",
       "      <td>5.4 Lakhs</td>\n",
       "      <td>Gurgaon</td>\n",
       "      <td>52,000 Kms</td>\n",
       "      <td>Petrol</td>\n",
       "      <td>Hatchback</td>\n",
       "      <td>1st Owner</td>\n",
       "    </tr>\n",
       "    <tr>\n",
       "      <th>897</th>\n",
       "      <td>2011</td>\n",
       "      <td>Ford</td>\n",
       "      <td>Figo  EXI DURATEC 1.2</td>\n",
       "      <td>1.78 Lakhs</td>\n",
       "      <td>Faridabad</td>\n",
       "      <td>60,835 Kms</td>\n",
       "      <td>Petrol</td>\n",
       "      <td>Hatchback</td>\n",
       "      <td>2nd Owner</td>\n",
       "    </tr>\n",
       "  </tbody>\n",
       "</table>\n",
       "<p>898 rows × 9 columns</p>\n",
       "</div>"
      ],
      "text/plain": [
       "    Year of Car    Make of Car                    Model Price of Car  \\\n",
       "0          2014  Maruti Suzuki          Wagon R 1.0 VXI      3 Lakhs   \n",
       "1          2014  Maruti Suzuki              Wagon R LXI      3 Lakhs   \n",
       "2          2013        Hyundai            I10 MAGNA 1.2      3 Lakhs   \n",
       "3          2013        Hyundai            I10 MAGNA 1.2      3 Lakhs   \n",
       "4          2012        Hyundai            I10 MAGNA 1.2      3 Lakhs   \n",
       "..          ...            ...                      ...          ...   \n",
       "893        2019  Maruti Suzuki  Vitara Brezza VDI AG...   8.25 Lakhs   \n",
       "894        2018        Hyundai  Elite I20 MAGNA EXEC...      6 Lakhs   \n",
       "895        2018           Tata      Tigor  REVOTRON XZA   5.85 Lakhs   \n",
       "896        2014        Hyundai            I20  ASTA 1.2    5.4 Lakhs   \n",
       "897        2011           Ford    Figo  EXI DURATEC 1.2   1.78 Lakhs   \n",
       "\n",
       "    Location of Car  Kilometers Diseal/Petrol       Body      Owner  \n",
       "0             Delhi  47,951 Kms        Petrol  Hatchback  1st Owner  \n",
       "1         Ghaziabad  47,951 Kms        Petrol  Hatchback  2nd Owner  \n",
       "2             Noida  33,375 Kms        Petrol  Hatchback  1st Owner  \n",
       "3             Noida  33,375 Kms        Petrol  Hatchback  1st Owner  \n",
       "4         Ghaziabad  44,000 Kms        Petrol  Hatchback  1st Owner  \n",
       "..              ...         ...           ...        ...        ...  \n",
       "893       Faridabad  31,000 Kms        Diesel        SUV  1st Owner  \n",
       "894       Faridabad  62,000 Kms        Diesel  Hatchback  1st Owner  \n",
       "895           Noida  39,000 Kms        Petrol      Sedan  2nd Owner  \n",
       "896         Gurgaon  52,000 Kms        Petrol  Hatchback  1st Owner  \n",
       "897       Faridabad  60,835 Kms        Petrol  Hatchback  2nd Owner  \n",
       "\n",
       "[898 rows x 9 columns]"
      ]
     },
     "execution_count": 12,
     "metadata": {},
     "output_type": "execute_result"
    }
   ],
   "source": [
    "# creating data frame using the lists and assigning column names\n",
    "\n",
    "data = pd.DataFrame({\"Year of Car\":year, \"Make of Car\":company, \"Model\":model, \"Price of Car\":price, \n",
    "                    \"Location of Car\":location, \"Kilometers\":km, \"Diseal/Petrol\":fuel_type, \"Body\":body, \n",
    "                    \"Owner\":owner})\n",
    "data"
   ]
  },
  {
   "cell_type": "code",
   "execution_count": 13,
   "id": "0b2b3314",
   "metadata": {},
   "outputs": [
    {
     "data": {
      "text/html": [
       "<div>\n",
       "<style scoped>\n",
       "    .dataframe tbody tr th:only-of-type {\n",
       "        vertical-align: middle;\n",
       "    }\n",
       "\n",
       "    .dataframe tbody tr th {\n",
       "        vertical-align: top;\n",
       "    }\n",
       "\n",
       "    .dataframe thead th {\n",
       "        text-align: right;\n",
       "    }\n",
       "</style>\n",
       "<table border=\"1\" class=\"dataframe\">\n",
       "  <thead>\n",
       "    <tr style=\"text-align: right;\">\n",
       "      <th></th>\n",
       "      <th>Year of Car</th>\n",
       "      <th>Make of Car</th>\n",
       "      <th>Model</th>\n",
       "      <th>Price of Car</th>\n",
       "      <th>Location of Car</th>\n",
       "      <th>Kilometers</th>\n",
       "      <th>Diseal/Petrol</th>\n",
       "      <th>Body</th>\n",
       "      <th>Owner</th>\n",
       "    </tr>\n",
       "  </thead>\n",
       "  <tbody>\n",
       "    <tr>\n",
       "      <th>479</th>\n",
       "      <td>2011</td>\n",
       "      <td>Maruti Suzuki</td>\n",
       "      <td>Wagon R 1.0  LXI CNG</td>\n",
       "      <td>2.45 Lakhs</td>\n",
       "      <td>Faridabad</td>\n",
       "      <td>72,177 Kms</td>\n",
       "      <td>CNG\\n                                        +...</td>\n",
       "      <td>Hatchback</td>\n",
       "      <td>1st Owner</td>\n",
       "    </tr>\n",
       "    <tr>\n",
       "      <th>369</th>\n",
       "      <td>2015</td>\n",
       "      <td>Maruti Suzuki</td>\n",
       "      <td>Alto K10  VXI</td>\n",
       "      <td>3.05 Lakhs</td>\n",
       "      <td>Faridabad</td>\n",
       "      <td>70,580 Kms</td>\n",
       "      <td>Petrol</td>\n",
       "      <td>Hatchback</td>\n",
       "      <td>1st Owner</td>\n",
       "    </tr>\n",
       "    <tr>\n",
       "      <th>469</th>\n",
       "      <td>2010</td>\n",
       "      <td>Hyundai</td>\n",
       "      <td>Santro Xing  GLS</td>\n",
       "      <td>1.5 Lakhs</td>\n",
       "      <td>Delhi</td>\n",
       "      <td>95,000 Kms</td>\n",
       "      <td>Petrol</td>\n",
       "      <td>Hatchback</td>\n",
       "      <td>1st Owner</td>\n",
       "    </tr>\n",
       "    <tr>\n",
       "      <th>202</th>\n",
       "      <td>2013</td>\n",
       "      <td>Hyundai</td>\n",
       "      <td>Sonata  2.4 GDI MT</td>\n",
       "      <td>8 Lakhs</td>\n",
       "      <td>Ghaziabad</td>\n",
       "      <td>56,000 Kms</td>\n",
       "      <td>Petrol</td>\n",
       "      <td>Sedan</td>\n",
       "      <td>1st Owner</td>\n",
       "    </tr>\n",
       "    <tr>\n",
       "      <th>22</th>\n",
       "      <td>2013</td>\n",
       "      <td>Chevrolet</td>\n",
       "      <td>Tavera  LT 9 STR</td>\n",
       "      <td>4.25 Lakhs</td>\n",
       "      <td>Delhi</td>\n",
       "      <td>99,000 Kms</td>\n",
       "      <td>Diesel</td>\n",
       "      <td>MUV</td>\n",
       "      <td>1st Owner</td>\n",
       "    </tr>\n",
       "    <tr>\n",
       "      <th>586</th>\n",
       "      <td>2013</td>\n",
       "      <td>Hyundai</td>\n",
       "      <td>Verna  1.6 CRDI SX</td>\n",
       "      <td>4.5 Lakhs</td>\n",
       "      <td>Ghaziabad</td>\n",
       "      <td>69,240 Kms</td>\n",
       "      <td>Diesel</td>\n",
       "      <td>Sedan</td>\n",
       "      <td>2nd Owner</td>\n",
       "    </tr>\n",
       "    <tr>\n",
       "      <th>347</th>\n",
       "      <td>2018</td>\n",
       "      <td>Maruti Suzuki</td>\n",
       "      <td>Baleno  ALPHA</td>\n",
       "      <td>6.95 Lakhs</td>\n",
       "      <td>Gurgaon</td>\n",
       "      <td>46,000 Kms</td>\n",
       "      <td>Petrol</td>\n",
       "      <td>Hatchback</td>\n",
       "      <td>1st Owner</td>\n",
       "    </tr>\n",
       "    <tr>\n",
       "      <th>566</th>\n",
       "      <td>2018</td>\n",
       "      <td>Maruti Suzuki</td>\n",
       "      <td>Ciaz  ZETA 1.4 MT</td>\n",
       "      <td>7.95 Lakhs</td>\n",
       "      <td>Delhi</td>\n",
       "      <td>35,328 Kms</td>\n",
       "      <td>Petrol</td>\n",
       "      <td>Sedan</td>\n",
       "      <td>1st Owner</td>\n",
       "    </tr>\n",
       "    <tr>\n",
       "      <th>228</th>\n",
       "      <td>2020</td>\n",
       "      <td>Hyundai</td>\n",
       "      <td>Venue S 1.0 AT PETRO...</td>\n",
       "      <td>10.25 Lakhs</td>\n",
       "      <td>Faridabad</td>\n",
       "      <td>7,406 Kms</td>\n",
       "      <td>Petrol</td>\n",
       "      <td>SUV</td>\n",
       "      <td>1st Owner</td>\n",
       "    </tr>\n",
       "    <tr>\n",
       "      <th>603</th>\n",
       "      <td>2015</td>\n",
       "      <td>Maruti Suzuki</td>\n",
       "      <td>Alto 800  LXI</td>\n",
       "      <td>2.45 Lakhs</td>\n",
       "      <td>Faridabad</td>\n",
       "      <td>54,284 Kms</td>\n",
       "      <td>Petrol</td>\n",
       "      <td>Hatchback</td>\n",
       "      <td>1st Owner</td>\n",
       "    </tr>\n",
       "  </tbody>\n",
       "</table>\n",
       "</div>"
      ],
      "text/plain": [
       "    Year of Car    Make of Car                    Model Price of Car  \\\n",
       "479        2011  Maruti Suzuki     Wagon R 1.0  LXI CNG   2.45 Lakhs   \n",
       "369        2015  Maruti Suzuki            Alto K10  VXI   3.05 Lakhs   \n",
       "469        2010        Hyundai         Santro Xing  GLS    1.5 Lakhs   \n",
       "202        2013        Hyundai       Sonata  2.4 GDI MT      8 Lakhs   \n",
       "22         2013      Chevrolet         Tavera  LT 9 STR   4.25 Lakhs   \n",
       "586        2013        Hyundai       Verna  1.6 CRDI SX    4.5 Lakhs   \n",
       "347        2018  Maruti Suzuki            Baleno  ALPHA   6.95 Lakhs   \n",
       "566        2018  Maruti Suzuki        Ciaz  ZETA 1.4 MT   7.95 Lakhs   \n",
       "228        2020        Hyundai  Venue S 1.0 AT PETRO...  10.25 Lakhs   \n",
       "603        2015  Maruti Suzuki            Alto 800  LXI   2.45 Lakhs   \n",
       "\n",
       "    Location of Car  Kilometers  \\\n",
       "479       Faridabad  72,177 Kms   \n",
       "369       Faridabad  70,580 Kms   \n",
       "469           Delhi  95,000 Kms   \n",
       "202       Ghaziabad  56,000 Kms   \n",
       "22            Delhi  99,000 Kms   \n",
       "586       Ghaziabad  69,240 Kms   \n",
       "347         Gurgaon  46,000 Kms   \n",
       "566           Delhi  35,328 Kms   \n",
       "228       Faridabad   7,406 Kms   \n",
       "603       Faridabad  54,284 Kms   \n",
       "\n",
       "                                         Diseal/Petrol       Body      Owner  \n",
       "479  CNG\\n                                        +...  Hatchback  1st Owner  \n",
       "369                                             Petrol  Hatchback  1st Owner  \n",
       "469                                             Petrol  Hatchback  1st Owner  \n",
       "202                                             Petrol      Sedan  1st Owner  \n",
       "22                                              Diesel        MUV  1st Owner  \n",
       "586                                             Diesel      Sedan  2nd Owner  \n",
       "347                                             Petrol  Hatchback  1st Owner  \n",
       "566                                             Petrol      Sedan  1st Owner  \n",
       "228                                             Petrol        SUV  1st Owner  \n",
       "603                                             Petrol  Hatchback  1st Owner  "
      ]
     },
     "execution_count": 13,
     "metadata": {},
     "output_type": "execute_result"
    }
   ],
   "source": [
    "data.sample(10)"
   ]
  },
  {
   "cell_type": "code",
   "execution_count": 14,
   "id": "425c6133",
   "metadata": {},
   "outputs": [],
   "source": [
    "# storing dataframe into csv file\n",
    "data.to_csv('scrape.csv')\n",
    "outfile.close()"
   ]
  },
  {
   "cell_type": "code",
   "execution_count": 15,
   "id": "621bb6bf",
   "metadata": {},
   "outputs": [
    {
     "data": {
      "text/plain": [
       "<AxesSubplot:ylabel='Location of Car'>"
      ]
     },
     "execution_count": 15,
     "metadata": {},
     "output_type": "execute_result"
    },
    {
     "data": {
      "image/png": "[encoded data removed]",
      "text/plain": [
       "<Figure size 432x288 with 1 Axes>"
      ]
     },
     "metadata": {},
     "output_type": "display_data"
    }
   ],
   "source": [
    "pd.value_counts(data[\"Location of Car\"]).plot.pie()"
   ]
  },
  {
   "cell_type": "code",
   "execution_count": 16,
   "id": "8562173d",
   "metadata": {},
   "outputs": [
    {
     "data": {
      "text/plain": [
       "<AxesSubplot:>"
      ]
     },
     "execution_count": 16,
     "metadata": {},
     "output_type": "execute_result"
    },
    {
     "data": {
      "image/png": "[encoded data removed]",
      "text/plain": [
       "<Figure size 432x288 with 1 Axes>"
      ]
     },
     "metadata": {
      "needs_background": "light"
     },
     "output_type": "display_data"
    }
   ],
   "source": [
    "pd.value_counts(data[\"Owner\"]).plot.barh()"
   ]
  },
  {
   "cell_type": "code",
   "execution_count": 17,
   "id": "50538289",
   "metadata": {},
   "outputs": [
    {
     "data": {
      "text/plain": [
       "<AxesSubplot:>"
      ]
     },
     "execution_count": 17,
     "metadata": {},
     "output_type": "execute_result"
    },
    {
     "data": {
      "image/png": "[encoded data removed]",
      "text/plain": [
       "<Figure size 432x288 with 1 Axes>"
      ]
     },
     "metadata": {
      "needs_background": "light"
     },
     "output_type": "display_data"
    }
   ],
   "source": [
    "pd.value_counts(data[\"Make of Car\"]).plot.bar()"
   ]
  },
  {
   "cell_type": "code",
   "execution_count": 18,
   "id": "4db78b03",
   "metadata": {
    "scrolled": true
   },
   "outputs": [
    {
     "data": {
      "text/plain": [
       "<AxesSubplot:>"
      ]
     },
     "execution_count": 18,
     "metadata": {},
     "output_type": "execute_result"
    },
    {
     "data": {
      "image/png": "[encoded data removed]",
      "text/plain": [
       "<Figure size 432x288 with 1 Axes>"
      ]
     },
     "metadata": {
      "needs_background": "light"
     },
     "output_type": "display_data"
    }
   ],
   "source": [
    "pd.value_counts(data[\"Year of Car\"]).plot.area()"
   ]
  }
 ],
 "metadata": {
  "kernelspec": {
   "display_name": "Python 3",
   "language": "python",
   "name": "python3"
  },
  "language_info": {
   "codemirror_mode": {
    "name": "ipython",
    "version": 3
   },
   "file_extension": ".py",
   "mimetype": "text/x-python",
   "name": "python",
   "nbconvert_exporter": "python",
   "pygments_lexer": "ipython3",
   "version": "3.8.8"
  }
 },
 "nbformat": 4,
 "nbformat_minor": 5
}
